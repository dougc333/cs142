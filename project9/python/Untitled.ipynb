{
 "cells": [
  {
   "cell_type": "code",
   "execution_count": 4,
   "metadata": {},
   "outputs": [],
   "source": [
    "import matplotlib.pyplot as plt\n",
    "\n",
    "import numpy as np\n",
    "from sklearn.linear_model import LogisticRegression\n",
    "from sklearn.datasets import load_digits\n",
    "from sklearn import datasets\n",
    "from sklearn.model_selection import train_test_split\n",
    "import pandas as pd\n",
    "from scipy.optimize import fmin_tnc\n"
   ]
  },
  {
   "cell_type": "code",
   "execution_count": 5,
   "metadata": {},
   "outputs": [],
   "source": [
    "#lr = LogisticRegression()\n",
    "#lr.fit(x_train,y_train)\n",
    "#lr.predict_prob(x_test)\n",
    "##prob_1 = lr.predict_proba(X_test)[:,1]\n",
    "#predicted = [1 if i>0.35 else 0 for i in prob_1]"
   ]
  },
  {
   "cell_type": "code",
   "execution_count": 22,
   "metadata": {},
   "outputs": [
    {
     "name": "stdout",
     "output_type": "stream",
     "text": [
      "X shape: (99, 2) y shape: (99,)\n",
      "X shape: (99, 3) y shape: (99, 1)  theta shape: (3, 1)\n",
      "w: (3,) [-24.86562916   0.203344     0.19985091]\n",
      "pred shape: (99, 1)  actual: (99,)\n",
      "pred: [[4.84682551e-05]\n",
      " [4.71239702e-02]\n",
      " [9.90252837e-01]\n",
      " [9.98097810e-01]\n",
      " [1.16200281e-02]\n",
      " [9.98939486e-01]\n",
      " [4.24107170e-01]\n",
      " [9.99690327e-01]\n",
      " [7.31739559e-01]\n",
      " [9.06072777e-01]\n",
      " [2.94273455e-02]\n",
      " [9.99220444e-01]\n",
      " [9.99844454e-01]\n",
      " [1.63868825e-01]\n",
      " [9.80870909e-01]\n",
      " [4.30355965e-01]\n",
      " [1.51834029e-01]\n",
      " [9.99688730e-01]\n",
      " [5.73377359e-01]\n",
      " [6.88409854e-02]\n",
      " [9.98528012e-01]\n",
      " [7.95628649e-03]\n",
      " [1.14651671e-04]\n",
      " [9.91540386e-01]\n",
      " [8.55359427e-01]\n",
      " [5.98256603e-01]\n",
      " [8.60922394e-01]\n",
      " [9.54272206e-02]\n",
      " [1.81757744e-02]\n",
      " [8.97173263e-01]\n",
      " [9.80213262e-01]\n",
      " [1.60613409e-01]\n",
      " [3.99802500e-01]\n",
      " [7.86553151e-02]\n",
      " [3.48605871e-02]\n",
      " [8.56931086e-01]\n",
      " [9.87306945e-01]\n",
      " [2.06001434e-01]\n",
      " [5.32385630e-02]\n",
      " [9.69190359e-01]\n",
      " [6.56486184e-03]\n",
      " [9.99414742e-01]\n",
      " [5.00289465e-01]\n",
      " [4.83192564e-03]\n",
      " [1.40809252e-01]\n",
      " [9.92697771e-01]\n",
      " [9.99995663e-01]\n",
      " [9.99172186e-01]\n",
      " [9.99989661e-01]\n",
      " [9.97999263e-01]\n",
      " [9.99453569e-01]\n",
      " [9.01867855e-01]\n",
      " [3.09455320e-03]\n",
      " [9.13296902e-03]\n",
      " [5.57453128e-02]\n",
      " [9.99841892e-01]\n",
      " [7.03538625e-01]\n",
      " [9.85034083e-01]\n",
      " [9.95560510e-01]\n",
      " [9.99502202e-01]\n",
      " [2.50120568e-04]\n",
      " [3.75721897e-03]\n",
      " [1.44491266e-04]\n",
      " [7.56833896e-02]\n",
      " [4.23474222e-02]\n",
      " [9.45507911e-01]\n",
      " [1.07918795e-02]\n",
      " [9.99948208e-01]\n",
      " [7.10147627e-01]\n",
      " [7.07236749e-05]\n",
      " [9.77047003e-01]\n",
      " [9.99885723e-01]\n",
      " [8.84547909e-01]\n",
      " [9.05484487e-01]\n",
      " [9.99949668e-01]\n",
      " [9.18882426e-01]\n",
      " [6.33068701e-01]\n",
      " [1.66753087e-02]\n",
      " [5.96830388e-01]\n",
      " [9.99227286e-01]\n",
      " [9.72089569e-01]\n",
      " [8.93906531e-01]\n",
      " [2.08746421e-01]\n",
      " [9.99935896e-01]\n",
      " [9.97898781e-01]\n",
      " [3.65253130e-01]\n",
      " [9.99807214e-01]\n",
      " [9.99970747e-01]\n",
      " [1.11438032e-01]\n",
      " [9.99937993e-01]\n",
      " [9.99983551e-01]\n",
      " [1.53939198e-03]\n",
      " [9.99282049e-01]\n",
      " [9.21930523e-01]\n",
      " [8.55725906e-01]\n",
      " [7.56911000e-01]\n",
      " [9.99885441e-01]\n",
      " [3.46182596e-01]\n",
      " [9.99734124e-01]]\n",
      "actual_classes: [0 0 1 1 0 1 1 1 1 0 0 1 1 0 1 1 0 1 1 0 1 0 0 1 1 1 0 0 0 1 1 0 1 0 0 0 1\n",
      " 0 0 1 0 1 0 0 0 1 1 1 1 1 1 1 0 0 0 1 0 1 1 1 0 0 0 0 0 1 0 1 1 0 1 1 1 1\n",
      " 1 1 1 0 0 1 1 1 1 1 1 0 1 1 0 1 1 0 1 1 1 1 1 1 1]\n",
      "predict_classes shape: (99, 1)\n",
      "flatten predict_classes shape: (99,)\n",
      "acc: 0.8888888888888888\n"
     ]
    }
   ],
   "source": [
    "def sigmoid(x):\n",
    "    return(1/(1+np.exp(-x)))\n",
    "def log_loss(y,y_prime):\n",
    "    return(-y*log(y_prime) - (1.-y)*log(1.-y_prime))\n",
    "def prob(theta,x):\n",
    "    return sigmoid(np.dot(x,theta))\n",
    "def cost(theta, x,y):\n",
    "    N = x.shape[0]\n",
    "    #print(\"cost N:\",N)\n",
    "    return -(1/N)*np.sum(y*np.log(prob(theta,x)) + (1-y)*np.log(1-prob(theta,x)) )\n",
    "def grad(theta,x,y):\n",
    "    N=x.shape[0]\n",
    "    #print(\"grad N:\",N)\n",
    "    return (1/N)*np.dot(x.T,sigmoid(np.dot(x,theta))-y)\n",
    "def fit(x,y,theta):\n",
    "    w = fmin_tnc(func=cost, x0=theta, fprime=grad, args=(x,y.flatten()))\n",
    "    return w[0]\n",
    "def predict(x,w_):\n",
    "    theta = w_[:,np.newaxis]\n",
    "    return prob(theta,x)\n",
    "def accuracy(x,weights, actual_classes,prob_thres=0.5):\n",
    "    pred = predict(x,weights)\n",
    "    print(\"pred shape:\",pred.shape,\" actual:\",actual_classes.shape)\n",
    "    print(\"pred:\",pred)\n",
    "    print(\"actual_classes:\",actual_classes)\n",
    "    predict_classes = (pred >= prob_thres).astype(int)\n",
    "    print(\"predict_classes shape:\",predict_classes.shape)\n",
    "    predict_classes = predict_classes.flatten()\n",
    "    print(\"flatten predict_classes shape:\",predict_classes.shape) \n",
    "    accuracy = np.mean(predict_classes==actual_classes)\n",
    "    print(\"acc:\",accuracy)\n",
    "    return accuracy*100\n",
    "\n",
    "#params = fit(X,y,theta)\n",
    "fh = pd.read_csv(\"data.txt\")\n",
    "fh.head()\n",
    "X = fh.iloc[:, :-1]\n",
    "y = fh.iloc[:,-1]\n",
    "print(\"X shape:\",X.shape,\"y shape:\",y.shape)\n",
    "X = np.c_[np.ones((X.shape[0], 1)), X]\n",
    "y = y[:, np.newaxis]\n",
    "theta = np.zeros((X.shape[1], 1))\n",
    "print(\"X shape:\",X.shape,\"y shape:\", y.shape,\" theta shape:\",theta.shape)\n",
    "weight=fit(X,y,theta)\n",
    "print(\"w:\",weight.shape,weight)\n",
    "acc = accuracy(X,weight,y.flatten())\n",
    "      "
   ]
  },
  {
   "cell_type": "code",
   "execution_count": 47,
   "metadata": {},
   "outputs": [
    {
     "name": "stdout",
     "output_type": "stream",
     "text": [
      "xx: [3.         3.06060606 3.12121212 3.18181818 3.24242424 3.3030303\n",
      " 3.36363636 3.42424242 3.48484848 3.54545455 3.60606061 3.66666667\n",
      " 3.72727273 3.78787879 3.84848485 3.90909091 3.96969697 4.03030303\n",
      " 4.09090909 4.15151515 4.21212121 4.27272727 4.33333333 4.39393939\n",
      " 4.45454545 4.51515152 4.57575758 4.63636364 4.6969697  4.75757576\n",
      " 4.81818182 4.87878788 4.93939394 5.         5.06060606 5.12121212\n",
      " 5.18181818 5.24242424 5.3030303  5.36363636 5.42424242 5.48484848\n",
      " 5.54545455 5.60606061 5.66666667 5.72727273 5.78787879 5.84848485\n",
      " 5.90909091 5.96969697 6.03030303 6.09090909 6.15151515 6.21212121\n",
      " 6.27272727 6.33333333 6.39393939 6.45454545 6.51515152 6.57575758\n",
      " 6.63636364 6.6969697  6.75757576 6.81818182 6.87878788 6.93939394\n",
      " 7.         7.06060606 7.12121212 7.18181818 7.24242424 7.3030303\n",
      " 7.36363636 7.42424242 7.48484848 7.54545455 7.60606061 7.66666667\n",
      " 7.72727273 7.78787879 7.84848485 7.90909091 7.96969697 8.03030303\n",
      " 8.09090909 8.15151515 8.21212121 8.27272727 8.33333333 8.39393939\n",
      " 8.45454545 8.51515152 8.57575758 8.63636364 8.6969697  8.75757576\n",
      " 8.81818182 8.87878788 8.93939394 9.        ]\n",
      "yy: [1.         1.04040404 1.08080808 1.12121212 1.16161616 1.2020202\n",
      " 1.24242424 1.28282828 1.32323232 1.36363636 1.4040404  1.44444444\n",
      " 1.48484848 1.52525253 1.56565657 1.60606061 1.64646465 1.68686869\n",
      " 1.72727273 1.76767677 1.80808081 1.84848485 1.88888889 1.92929293\n",
      " 1.96969697 2.01010101 2.05050505 2.09090909 2.13131313 2.17171717\n",
      " 2.21212121 2.25252525 2.29292929 2.33333333 2.37373737 2.41414141\n",
      " 2.45454545 2.49494949 2.53535354 2.57575758 2.61616162 2.65656566\n",
      " 2.6969697  2.73737374 2.77777778 2.81818182 2.85858586 2.8989899\n",
      " 2.93939394 2.97979798 3.02020202 3.06060606 3.1010101  3.14141414\n",
      " 3.18181818 3.22222222 3.26262626 3.3030303  3.34343434 3.38383838\n",
      " 3.42424242 3.46464646 3.50505051 3.54545455 3.58585859 3.62626263\n",
      " 3.66666667 3.70707071 3.74747475 3.78787879 3.82828283 3.86868687\n",
      " 3.90909091 3.94949495 3.98989899 4.03030303 4.07070707 4.11111111\n",
      " 4.15151515 4.19191919 4.23232323 4.27272727 4.31313131 4.35353535\n",
      " 4.39393939 4.43434343 4.47474747 4.51515152 4.55555556 4.5959596\n",
      " 4.63636364 4.67676768 4.71717172 4.75757576 4.7979798  4.83838384\n",
      " 4.87878788 4.91919192 4.95959596 5.        ]\n",
      "(10000, 2)\n"
     ]
    }
   ],
   "source": [
    "xx = np.linspace(3, 9, 100)\n",
    "print(\"xx:\",xx)\n",
    "yy = np.linspace(1, 5, 100).T\n",
    "print(\"yy:\",yy)\n",
    "xx, yy = np.meshgrid(xx, yy)\n",
    "Xfull = np.c_[xx.ravel(), yy.ravel()]\n",
    "print(Xfull.shape)"
   ]
  },
  {
   "cell_type": "code",
   "execution_count": 25,
   "metadata": {},
   "outputs": [
    {
     "name": "stdout",
     "output_type": "stream",
     "text": [
      "tn: 0 fp: 2  fn: 1  tp: 1\n"
     ]
    }
   ],
   "source": [
    "from sklearn.metrics import confusion_matrix\n",
    "y_true = [2, 0, 2, 2, 0, 1]\n",
    "y_pred = [0, 0, 2, 2, 0, 2]\n",
    "#confusion_matrix(y_true, y_pred)\n",
    "tn, fp, fn, tp = confusion_matrix([0, 1, 0, 1], [1, 1, 1, 0]).ravel()\n",
    "print(\"tn:\",tn, \"fp:\",fp,\" fn:\",fn, \" tp:\",tp)\n",
    "#only defined for binary case? \n"
   ]
  },
  {
   "cell_type": "code",
   "execution_count": 59,
   "metadata": {},
   "outputs": [
    {
     "name": "stdout",
     "output_type": "stream",
     "text": [
      "<class 'sklearn.utils.Bunch'>\n",
      "n_classes: 3\n",
      "probs size: (10000, 3)\n",
      "[[5.66419570e-01 4.33060046e-01 5.20384583e-04]\n",
      " [4.35534071e-01 5.63709370e-01 7.56559724e-04]\n",
      " [3.13052244e-01 6.85919567e-01 1.02818868e-03]\n",
      " [2.12070879e-01 7.86612163e-01 1.31695805e-03]\n",
      " [1.37156889e-01 8.61232675e-01 1.61043590e-03]\n",
      " [8.58219875e-02 9.12272730e-01 1.90528215e-03]\n",
      " [5.25296356e-02 9.45265408e-01 2.20495652e-03]\n",
      " [3.17033959e-02 9.65780455e-01 2.51614890e-03]\n",
      " [1.89681654e-02 9.78185468e-01 2.84636632e-03]\n",
      " [1.12886299e-02 9.85508483e-01 3.20288697e-03]]\n"
     ]
    },
    {
     "data": {
      "image/png": "[encoded data removed]",
      "text/plain": [
       "<Figure size 288x216 with 1 Axes>"
      ]
     },
     "metadata": {},
     "output_type": "display_data"
    }
   ],
   "source": [
    "iris = datasets.load_iris()\n",
    "print(type(iris))\n",
    "X = iris.data[:,:2]\n",
    "Y = iris.target\n",
    "\n",
    "logreg = LogisticRegression(C=10, penalty='l1',\n",
    "                                      solver='saga',\n",
    "                                      multi_class='multinomial',\n",
    "                                      max_iter=10000)\n",
    "logreg.fit(X,Y)\n",
    "y_pred = logreg.predict(X)\n",
    "probas = logreg.predict_proba(Xfull)\n",
    "n_classes = np.unique(y_pred).size\n",
    "print(\"n_classes:\",n_classes)\n",
    "print(\"probs size:\",probas.shape)\n",
    "print(probas[0:10,:])\n",
    "# Plot the decision boundary. For that, we will assign a color to each\n",
    "# point in the mesh [x_min, x_max]x[y_min, y_max].\n",
    "x_min, x_max = X[:, 0].min() - .5, X[:, 0].max() + .5\n",
    "y_min, y_max = X[:, 1].min() - .5, X[:, 1].max() + .5\n",
    "h = .02  # step size in the mesh\n",
    "xx, yy = np.meshgrid(np.arange(x_min, x_max, h), np.arange(y_min, y_max, h))\n",
    "Z = logreg.predict(np.c_[xx.ravel(), yy.ravel()])\n",
    "\n",
    "# Put the result into a color plot\n",
    "Z = Z.reshape(xx.shape)\n",
    "plt.figure(1, figsize=(4, 3))\n",
    "plt.pcolormesh(xx, yy, Z, cmap=plt.cm.Paired)\n",
    "\n",
    "# Plot also the training points\n",
    "plt.scatter(X[:, 0], X[:, 1], c=Y, edgecolors='k', cmap=plt.cm.Paired)\n",
    "plt.xlabel('Sepal length')\n",
    "plt.ylabel('Sepal width')\n",
    "\n",
    "plt.xlim(xx.min(), xx.max())\n",
    "plt.ylim(yy.min(), yy.max())\n",
    "plt.xticks(())\n",
    "plt.yticks(())\n",
    "\n",
    "plt.show()"
   ]
  },
  {
   "cell_type": "code",
   "execution_count": 27,
   "metadata": {},
   "outputs": [
    {
     "name": "stdout",
     "output_type": "stream",
     "text": [
      "<class 'sklearn.utils.Bunch'>\n",
      "(1797, 64) <class 'tuple'>\n",
      "[ 0.  0.  5. 13.  9.  1.  0.  0.  0.  0. 13. 15. 10. 15.  5.  0.  0.  3.\n",
      " 15.  2.  0. 11.  8.  0.  0.  4. 12.  0.  0.  8.  8.  0.  0.  5.  8.  0.\n",
      "  0.  9.  8.  0.  0.  4. 11.  0.  1. 12.  7.  0.  0.  2. 14.  5. 10. 12.\n",
      "  0.  0.  0.  0.  6. 13. 10.  0.  0.  0.]\n",
      "(1797,) <class 'tuple'> [0 1 2 3 4 5 6 7 8 9 0 1 2 3 4 5 6 7 8 9]\n"
     ]
    },
    {
     "data": {
      "image/png": "[encoded data removed]",
      "text/plain": [
       "<Figure size 1440x288 with 5 Axes>"
      ]
     },
     "metadata": {
      "needs_background": "light"
     },
     "output_type": "display_data"
    }
   ],
   "source": [
    "\n",
    "\n",
    "digits = load_digits()\n",
    "print(type(digits))\n",
    "print(digits.data.shape,type(digits.data.shape))\n",
    "print(digits.data[0]) #digit 0?\n",
    "plt.figure(figsize=(20,4))\n",
    "plt.subplot(1,5,1)\n",
    "plt.imshow(np.reshape(digits.data[0],(8,8)))\n",
    "plt.subplot(1,5,2)\n",
    "plt.imshow(np.reshape(digits.data[1],(8,8)))\n",
    "plt.subplot(1,5,3)\n",
    "plt.imshow(np.reshape(digits.data[2],(8,8)))\n",
    "plt.subplot(1,5,4)\n",
    "plt.imshow(np.reshape(digits.data[3],(8,8)))\n",
    "plt.subplot(1,5,5)\n",
    "plt.imshow(np.reshape(digits.data[4],(8,8)))\n",
    "\n",
    "print(digits.target.shape,type(digits.target.shape),digits.target[0:20])\n"
   ]
  },
  {
   "cell_type": "code",
   "execution_count": 28,
   "metadata": {},
   "outputs": [
    {
     "name": "stdout",
     "output_type": "stream",
     "text": [
      "(1347, 64) (450, 64) (1347,) (450,)\n"
     ]
    }
   ],
   "source": [
    "x_train, x_test, y_train, y_test = train_test_split(digits.data, digits.target, test_size=0.25, random_state=0)\n",
    "print(x_train.shape,x_test.shape,y_train.shape,y_test.shape)"
   ]
  },
  {
   "cell_type": "code",
   "execution_count": 29,
   "metadata": {},
   "outputs": [
    {
     "name": "stdout",
     "output_type": "stream",
     "text": [
      "(64,) (450,)\n",
      "actual: 2\n",
      "predict: [2]\n"
     ]
    },
    {
     "name": "stderr",
     "output_type": "stream",
     "text": [
      "/Users/dougchang/miniconda3/envs/covid/lib/python3.7/site-packages/sklearn/linear_model/_logistic.py:764: ConvergenceWarning: lbfgs failed to converge (status=1):\n",
      "STOP: TOTAL NO. of ITERATIONS REACHED LIMIT.\n",
      "\n",
      "Increase the number of iterations (max_iter) or scale the data as shown in:\n",
      "    https://scikit-learn.org/stable/modules/preprocessing.html\n",
      "Please also refer to the documentation for alternative solver options:\n",
      "    https://scikit-learn.org/stable/modules/linear_model.html#logistic-regression\n",
      "  extra_warning_msg=_LOGISTIC_SOLVER_CONVERGENCE_MSG)\n"
     ]
    },
    {
     "data": {
      "image/png": "[encoded data removed]",
      "text/plain": [
       "<Figure size 432x288 with 1 Axes>"
      ]
     },
     "metadata": {
      "needs_background": "light"
     },
     "output_type": "display_data"
    }
   ],
   "source": [
    "logistic = LogisticRegression()\n",
    "logistic.fit(x_train, y_train)\n",
    "\n",
    "print(x_test[0].shape,y_test.shape)\n",
    "plt.subplot(1,5,1)\n",
    "plt.imshow(np.reshape(x_test[0],(8,8)))\n",
    "print(\"actual:\",y_test[0])\n",
    "\n",
    "p = logistic.predict(x_test[0].reshape(1,-1))\n",
    "print(\"predict:\",p)"
   ]
  },
  {
   "cell_type": "code",
   "execution_count": 34,
   "metadata": {},
   "outputs": [
    {
     "name": "stdout",
     "output_type": "stream",
     "text": [
      "<class 'numpy.ndarray'>\n",
      "[2 8 2 6 6 7 1 9 8 5 2 8 6 6 6 6 1 0 5 8 8 7 8 4 7 5 4 9 2 9 4 7 6 8 9 4 3\n",
      " 1 0 1 8 6 7 7 1 0 7 6 2 1 9 6 7 9 0 0 9 1 6 3 0 2 3 4 1 9 2 6 9 1 8 3 5 1\n",
      " 2 8 2 2 9 7 2 3 6 0 5 3 7 5 1 2 9 9 3 1 4 7 4 8 5 8 5 5 2 5 9 0 7 1 4 7 3\n",
      " 4 8 9 7 9 8 2 1 5 2 5 8 4 1 7 0 6 1 5 5 9 9 5 9 9 5 7 5 6 2 8 6 9 6 1 5 1\n",
      " 5 9 9 1 5 3 6 1 8 9 8 7 6 7 6 5 6 0 8 8 9 9 6 1 0 4 1 6 3 8 6 7 4 9 6 3 0\n",
      " 3 3 3 0 7 7 5 7 8 0 7 1 9 6 4 5 0 1 4 6 4 3 3 0 9 5 9 2 8 4 2 1 6 8 9 2 4\n",
      " 9 3 7 6 2 3 3 1 6 9 3 6 3 3 2 0 7 6 1 1 9 7 2 7 8 5 5 7 5 3 3 7 2 7 5 5 7\n",
      " 0 9 1 6 5 9 7 4 3 8 0 3 6 4 6 3 2 6 8 8 8 4 6 7 5 2 4 5 3 2 4 6 9 4 5 4 3\n",
      " 4 6 2 9 0 1 7 2 0 9 6 0 4 2 0 7 9 8 5 7 8 2 8 4 3 7 2 6 9 9 5 1 0 8 2 8 9\n",
      " 5 6 2 2 7 2 1 5 1 6 4 5 0 9 4 1 1 7 0 8 9 0 5 4 3 8 8 6 5 3 4 4 4 8 8 7 0\n",
      " 9 6 3 5 2 3 0 8 8 3 1 3 3 0 0 4 6 0 7 7 6 2 0 4 4 2 3 7 1 9 8 6 8 5 6 2 2\n",
      " 3 1 7 7 8 0 3 3 1 1 5 5 9 1 3 7 0 0 3 0 4 5 8 9 3 4 3 1 8 9 8 3 6 3 1 6 2\n",
      " 1 7 5 5 1 9]\n",
      "---------\n",
      "[2 8 2 6 6 7 1 9 8 5 2 8 6 6 6 6 1 0 5 8 8 7 8 4 7 5 4 9 2 9 4 7 6 8 9 4 3\n",
      " 1 0 1 8 6 7 7 1 0 7 6 2 1 9 6 7 9 0 0 5 1 6 3 0 2 3 4 1 9 2 6 9 1 8 3 5 1\n",
      " 2 8 2 2 9 7 2 3 6 0 5 3 7 5 1 2 9 9 3 1 7 7 4 8 5 8 5 5 2 5 9 0 7 1 4 7 3\n",
      " 4 8 9 7 9 8 2 6 5 2 5 8 4 8 7 0 6 1 5 9 9 9 5 9 9 5 7 5 6 2 8 6 9 6 1 5 1\n",
      " 5 9 9 1 5 3 6 1 8 9 8 7 6 7 6 5 6 0 8 8 9 8 6 1 0 4 1 6 3 8 6 7 4 5 6 3 0\n",
      " 3 3 3 0 7 7 5 7 8 0 7 8 9 6 4 5 0 1 4 6 4 3 3 0 9 5 9 2 1 4 2 1 6 8 9 2 4\n",
      " 9 3 7 6 2 3 3 1 6 9 3 6 3 2 2 0 7 6 1 1 9 7 2 7 8 5 5 7 5 2 3 7 2 7 5 5 7\n",
      " 0 9 1 6 5 9 7 4 3 8 0 3 6 4 6 3 2 6 8 8 8 4 6 7 5 2 4 5 3 2 4 6 9 4 5 4 3\n",
      " 4 6 2 9 0 1 7 2 0 9 6 0 4 2 0 7 9 8 5 4 8 2 8 4 3 7 2 6 9 1 5 1 0 8 2 1 9\n",
      " 5 6 8 2 7 2 1 5 1 6 4 5 0 9 4 1 1 7 0 8 9 0 5 4 3 8 8 6 5 3 4 4 4 8 8 7 0\n",
      " 9 6 3 5 2 3 0 8 3 3 1 3 3 0 0 4 6 0 7 7 6 2 0 4 4 2 3 7 8 9 8 6 8 5 6 2 2\n",
      " 3 1 7 7 8 0 3 3 2 1 5 5 9 1 3 7 0 0 7 0 4 5 9 3 3 4 3 1 8 9 8 3 6 2 1 6 2\n",
      " 1 7 5 5 1 9]\n"
     ]
    }
   ],
   "source": [
    "pred_allclasses = logistic.predict(x_test)\n",
    "print(type(pred_allclasses))\n",
    "print(pred_allclasses)\n",
    "print(\"---------\")\n",
    "print(y_test)\n"
   ]
  },
  {
   "cell_type": "code",
   "execution_count": 35,
   "metadata": {},
   "outputs": [
    {
     "name": "stdout",
     "output_type": "stream",
     "text": [
      "0.9511111111111111\n"
     ]
    }
   ],
   "source": [
    "#stats\n",
    "score = logistic.score(x_test, y_test)\n",
    "print(score)"
   ]
  },
  {
   "cell_type": "code",
   "execution_count": null,
   "metadata": {},
   "outputs": [],
   "source": []
  }
 ],
 "metadata": {
  "kernelspec": {
   "display_name": "Python 3",
   "language": "python",
   "name": "python3"
  },
  "language_info": {
   "codemirror_mode": {
    "name": "ipython",
    "version": 3
   },
   "file_extension": ".py",
   "mimetype": "text/x-python",
   "name": "python",
   "nbconvert_exporter": "python",
   "pygments_lexer": "ipython3",
   "version": "3.7.7"
  }
 },
 "nbformat": 4,
 "nbformat_minor": 4
}
